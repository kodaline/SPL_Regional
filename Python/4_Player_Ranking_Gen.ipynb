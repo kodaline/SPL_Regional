{
 "cells": [
  {
   "cell_type": "code",
   "execution_count": 1,
   "metadata": {},
   "outputs": [],
   "source": [
    "import pandas as pd\n",
    "import os\n",
    "from bs4 import BeautifulSoup\n",
    "\n",
    "# Update INPUT_DIR and OUTPUT_DIR to match your system setup\n",
    "INPUT_DIR = \"../Excel\"\n",
    "OUTPUT_DIR = \"../HTML\"\n",
    "\n",
    "def update_player_summary(city_name, season_number, file_sorted):\n",
    "    df = pd.read_excel(file_sorted)\n",
    "    \n",
    "    df['Player'] = df['Player'].apply(\n",
    "        lambda x: f'<a href=\"/{city_name}/s{season_number}/player_graphs/{x}.html\">{x}</a>'\n",
    "    )\n",
    "    \n",
    "    html_string = df.to_html(escape=False, index=False)\n",
    "    html_complete = f\"\"\"\n",
    "    <!DOCTYPE html>\n",
    "    <html lang=\"en\">\n",
    "    <head>\n",
    "        <meta charset=\"UTF-8\">\n",
    "        <title>Players Summary</title>\n",
    "        <link rel=\"stylesheet\" href=\"../Styles/styles_table.css\">\n",
    "    </head>\n",
    "    <body>\n",
    "        <div id=\"table-container\">\n",
    "            {html_string}\n",
    "        </div>\n",
    "    </body>\n",
    "    </html>\n",
    "    \"\"\"\n",
    "    \n",
    "    city_output_dir = os.path.join(OUTPUT_DIR, city_name, f\"s{season_number}\")\n",
    "    os.makedirs(city_output_dir, exist_ok=True)\n",
    "    \n",
    "    output_path = os.path.join(city_output_dir, f\"players_summary_s{season_number}.html\")\n",
    "    \n",
    "    with open(output_path, 'w') as f:\n",
    "        f.write(html_complete)\n",
    "        \n",
    "    return f\"HTML updated for season {season_number} and saved to {output_path}\"\n",
    "\n",
    "# Loop through each directory (each representing a city)\n",
    "for city_folder in os.listdir(INPUT_DIR):\n",
    "    city_folder_path = os.path.join(INPUT_DIR, city_folder)\n",
    "\n",
    "    if os.path.isdir(city_folder_path):\n",
    "        city_name = city_folder\n",
    "        \n",
    "        season1_path = os.path.join(city_folder_path, f\"season1_{city_name}.xlsx\")\n",
    "        season2_path = os.path.join(city_folder_path, f\"season2_{city_name}.xlsx\")\n",
    "        \n",
    "        if all(os.path.exists(p) for p in [season1_path, season2_path]):\n",
    "            update_player_summary(city_name, 1, season1_path)\n",
    "            update_player_summary(city_name, 2, season2_path)\n"
   ]
  }
 ],
 "metadata": {
  "kernelspec": {
   "display_name": "Python 3",
   "language": "python",
   "name": "python3"
  },
  "language_info": {
   "codemirror_mode": {
    "name": "ipython",
    "version": 3
   },
   "file_extension": ".py",
   "mimetype": "text/x-python",
   "name": "python",
   "nbconvert_exporter": "python",
   "pygments_lexer": "ipython3",
   "version": "3.10.8"
  },
  "orig_nbformat": 4
 },
 "nbformat": 4,
 "nbformat_minor": 2
}
